{
  "metadata": {
    "kernelspec": {
      "name": "python",
      "display_name": "Python (Pyodide)",
      "language": "python"
    },
    "language_info": {
      "codemirror_mode": {
        "name": "python",
        "version": 3
      },
      "file_extension": ".py",
      "mimetype": "text/x-python",
      "name": "python",
      "nbconvert_exporter": "python",
      "pygments_lexer": "ipython3",
      "version": "3.8"
    }
  },
  "nbformat_minor": 5,
  "nbformat": 4,
  "cells": [
    {
      "id": "af787000-0ae1-4af3-a27c-d622b1832325",
      "cell_type": "code",
      "source": "1.1 WAP to print your name three times\nprint(\"hurreet\")\nprint(\"hurreet\")\nprint(\"hurreet\")\n\n2.1: WAP to add three numbers and print the result.\na=100\nb=3\nc=6\nd=a+b+c\nprint(a,\"+\",b,\"+\",c,\"-->\",d)\n\n2.2: WAP to concatinate three strings and print the result.\na=\"kritika\"\nb=\"garima\"\nc=\"aakansha\"\nd=a+b+c\nprint(a,\"&\",b,\"&\",c,\"-->\",d)\n\n4.1: WAP to print the table of 7, 9.\n#table of 7\nfor i in range(0,11):\n    print(\"7\",\"*\",i,\"-->\",i*7)\n    \n    #table of 9\n    for i in range(0,11):\n        print(\"9\",\"*\",i,\"-->\",i*9)\n\n4.2: WAP to print the table of n and n is given by user.\nn=int(input(\"enter a number:\"))\nfor i in range(0,11):\n    print(\"n\",\"*\",i,\"-->\",i*n)\n\n4.3: WAP to add all the numbers from 1 to n and n is given by user.\nn = int(input(\"Enter the number till which sum is needed: \"))\nsum = 0\nfor i in range(0, n + 1):\n    sum = sum + i\nprint(\"The sum is:\", sum)\n5\n\n5.1: WAP to find max amoung three numbers and input from user. [Try max() function]\na=int(input(\"enter the first number\"))\nb=int(input(\"enter the second number\"))\nc=int(input(\"enter the third number\"))\nif a>b and a>c:\n    print(\"a is greater\")\nelif b>c and b>a:\n    print(\"b is greter\")\nelif c>b and c>a:\n    print(\"c is greater\")\nelse:\n    print(\"they are equal\")  \n\n5.2: WAP to add all numbers divisible by 7 and 9 from 1 to n and n is given by the user.\n    \n    ",
      "metadata": {
        "trusted": true
      },
      "outputs": [],
      "execution_count": null
    }
  ]
}